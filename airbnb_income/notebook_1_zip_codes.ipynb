{
 "cells": [
  {
   "cell_type": "code",
   "execution_count": 1,
   "metadata": {},
   "outputs": [
    {
     "name": "stdout",
     "output_type": "stream",
     "text": [
      "time: 418 ms (started: 2022-04-28 20:07:10 -04:00)\n"
     ]
    }
   ],
   "source": [
    "%load_ext autotime\n",
    "import ast\n",
    "from geopy.extra.rate_limiter import RateLimiter\n",
    "from geopy.geocoders import Nominatim\n",
    "import pandas as pd\n",
    "import re\n",
    "from tqdm.auto import tqdm"
   ]
  },
  {
   "cell_type": "code",
   "execution_count": 2,
   "metadata": {},
   "outputs": [
    {
     "name": "stdout",
     "output_type": "stream",
     "text": [
      "time: 15.9 ms (started: 2022-04-28 20:07:12 -04:00)\n"
     ]
    }
   ],
   "source": [
    "df = pd.read_csv('Chicago_Airbnb_Listing_Dataset.csv')"
   ]
  },
  {
   "cell_type": "code",
   "execution_count": 3,
   "metadata": {},
   "outputs": [
    {
     "name": "stdout",
     "output_type": "stream",
     "text": [
      "time: 76.8 ms (started: 2022-04-28 20:07:14 -04:00)\n"
     ]
    }
   ],
   "source": [
    "df['coordinates'] = '(' + df.latitude.map(str) + ', ' + df.longitude.map(str) + ')'\n",
    "df.coordinates = df.coordinates.apply(ast.literal_eval)"
   ]
  },
  {
   "cell_type": "code",
   "execution_count": 4,
   "metadata": {},
   "outputs": [
    {
     "name": "stdout",
     "output_type": "stream",
     "text": [
      "time: 18.9 ms (started: 2022-04-28 20:08:39 -04:00)\n"
     ]
    }
   ],
   "source": [
    "geolocator = Nominatim(user_agent=\"colin.brineman@gmail.com\")\n",
    "reverse = RateLimiter(geolocator.reverse, min_delay_seconds=0.1, max_retries=10)"
   ]
  },
  {
   "cell_type": "code",
   "execution_count": 5,
   "metadata": {},
   "outputs": [
    {
     "data": {
      "application/vnd.jupyter.widget-view+json": {
       "model_id": "f1ff19e5b0a04a6c8887388a2382c410",
       "version_major": 2,
       "version_minor": 0
      },
      "text/plain": [
       "  0%|          | 0/6544 [00:00<?, ?it/s]"
      ]
     },
     "metadata": {},
     "output_type": "display_data"
    },
    {
     "name": "stdout",
     "output_type": "stream",
     "text": [
      "time: 54min 33s (started: 2022-04-28 20:08:39 -04:00)\n"
     ]
    }
   ],
   "source": [
    "tqdm.pandas()\n",
    "df['geopy_address'] = df['coordinates'].progress_apply(lambda x: reverse(x).raw['address'])"
   ]
  },
  {
   "cell_type": "code",
   "execution_count": 6,
   "metadata": {},
   "outputs": [
    {
     "name": "stdout",
     "output_type": "stream",
     "text": [
      "time: 16.2 ms (started: 2022-04-28 21:03:13 -04:00)\n"
     ]
    }
   ],
   "source": [
    "df['geopy_address'] = df['geopy_address'].astype('str') "
   ]
  },
  {
   "cell_type": "code",
   "execution_count": 7,
   "metadata": {},
   "outputs": [
    {
     "name": "stdout",
     "output_type": "stream",
     "text": [
      "time: 27.7 ms (started: 2022-04-28 21:03:13 -04:00)\n"
     ]
    }
   ],
   "source": [
    "df['zip_code'] = df['geopy_address'].str.extract(r\"\\b(\\d{5})\\b\")"
   ]
  },
  {
   "cell_type": "code",
   "execution_count": 8,
   "metadata": {},
   "outputs": [
    {
     "name": "stdout",
     "output_type": "stream",
     "text": [
      "time: 80.6 ms (started: 2022-04-28 21:03:13 -04:00)\n"
     ]
    }
   ],
   "source": [
    "df.to_csv('dataset_1_zip_codes.csv', index=False)"
   ]
  }
 ],
 "metadata": {
  "kernelspec": {
   "display_name": "BigBrain",
   "language": "python",
   "name": "bigbrain"
  },
  "language_info": {
   "codemirror_mode": {
    "name": "ipython",
    "version": 3
   },
   "file_extension": ".py",
   "mimetype": "text/x-python",
   "name": "python",
   "nbconvert_exporter": "python",
   "pygments_lexer": "ipython3",
   "version": "3.10.4"
  },
  "orig_nbformat": 4
 },
 "nbformat": 4,
 "nbformat_minor": 2
}
